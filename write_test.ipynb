{
 "cells": [
  {
   "cell_type": "code",
   "execution_count": 1,
   "metadata": {},
   "outputs": [],
   "source": [
    "from sympy import *"
   ]
  },
  {
   "cell_type": "code",
   "execution_count": 2,
   "metadata": {},
   "outputs": [],
   "source": [
    "number = 'HD3'\n",
    "\n",
    "x = symbols('x')\n",
    "tol = 1e-10\n",
    "\n",
    "def write_test_dual(f, x0, method, additional_param = \"\"):\n",
    "    print(\"/// ```\")\n",
    "    print(\"/// # use num_hyperdual::dual::Dual64;\")\n",
    "    print(\"/// # use num_hyperdual::DualNum;\")\n",
    "    print(f\"/// let res = Dual64::new({x0}, 1.0).{method}({additional_param});\")\n",
    "    print(f\"/// assert!((res.re - {f.subs(x,x0).evalf()}).abs() < {tol});\")\n",
    "    print(f\"/// assert!((res.eps - {f.diff().subs(x,x0).evalf()}).abs() < {tol});\")\n",
    "    print(\"/// ```\")\n",
    "\n",
    "def write_test_hyperdual(f, x0, method, additional_param = \"\"):\n",
    "    print(\"/// ```\")\n",
    "    print(\"/// # use num_hyperdual::hyperdual::HyperDual64;\")\n",
    "    print(\"/// # use num_hyperdual::DualNum;\")\n",
    "    print(f\"/// let res = HyperDual64::new({x0}, 1.0, 1.0, 0.0).{method}({additional_param});\")\n",
    "    print(f\"/// assert!((res.re - {f.subs(x,x0).evalf()}).abs() < {tol});\")\n",
    "    print(f\"/// assert!((res.eps1 - {f.diff().subs(x,x0).evalf()}).abs() < {tol});\")\n",
    "    print(f\"/// assert!((res.eps2 - {f.diff().subs(x,x0).evalf()}).abs() < {tol});\")\n",
    "    print(f\"/// assert!((res.eps1eps2 - {f.diff().diff().subs(x,x0).evalf()}).abs() < {tol});\")\n",
    "    print(\"/// ```\")\n",
    "\n",
    "def write_test_hdscal(f, x0, method, additional_param = \"\"):\n",
    "    print(\"/// ```\")\n",
    "    print(\"/// # use num_hyperdual::hd_scal::{HDScal64, D5};\")\n",
    "    print(\"/// # use num_hyperdual::DualNum;\")\n",
    "    print(f\"/// let res: HDScal64<D5> = HDScal64::new({x0}).derive().{method}({additional_param});\")\n",
    "    print(f\"/// assert!((res.0[0] - {f.subs(x,x0).evalf()}).abs() < {tol});\")\n",
    "    print(f\"/// assert!((res.0[1] - {f.diff().subs(x,x0).evalf()}).abs() < {tol});\")\n",
    "    print(f\"/// assert!((res.0[2] - {f.diff().diff().subs(x,x0).evalf()}).abs() < {tol});\")\n",
    "    print(f\"/// assert!((res.0[3] - {f.diff().diff().diff().subs(x,x0).evalf()}).abs() < {tol});\")\n",
    "    print(f\"/// assert!((res.0[4] - {f.diff().diff().diff().diff().subs(x,x0).evalf()}).abs() < {tol});\")\n",
    "    print(f\"/// assert!((res.0[5] - {f.diff().diff().diff().diff().diff().subs(x,x0).evalf()}).abs() < {tol});\")\n",
    "    print(\"/// ```\")\n",
    "\n",
    "def write_test_hd3(f, x0, method, additional_param = \"\"):\n",
    "    print(\"/// ```\")\n",
    "    print(\"/// # use num_hyperdual::hd3::HD3_64;\")\n",
    "    print(\"/// # use num_hyperdual::DualNum;\")\n",
    "    print(f\"/// let res = HD3_64::new({x0}).derive().{method}({additional_param});\")\n",
    "    print(f\"/// assert!((res.0[0] - {f.subs(x,x0).evalf()}).abs() < {tol});\")\n",
    "    print(f\"/// assert!((res.0[1] - {f.diff().subs(x,x0).evalf()}).abs() < {tol});\")\n",
    "    print(f\"/// assert!((res.0[2] - {f.diff().diff().subs(x,x0).evalf()}).abs() < {tol});\")\n",
    "    print(f\"/// assert!((res.0[3] - {f.diff().diff().diff().subs(x,x0).evalf()}).abs() < {tol});\")\n",
    "    print(\"/// ```\")\n",
    "    \n",
    "write_test = {'Dual': write_test_dual, 'HyperDual': write_test_hyperdual, 'HDScal': write_test_hdscal, 'HD3': write_test_hd3}[number]"
   ]
  },
  {
   "cell_type": "code",
   "execution_count": 3,
   "metadata": {},
   "outputs": [
    {
     "name": "stdout",
     "output_type": "stream",
     "text": [
      "/// ```\n",
      "/// # use num_hyperdual::hd3::HD3_64;\n",
      "/// # use num_hyperdual::DualNum;\n",
      "/// let res = HD3_64::new(1.2).derive().recip();\n",
      "/// assert!((res.0[0] - 0.833333333333333).abs() < 1e-10);\n",
      "/// assert!((res.0[1] - -0.694444444444445).abs() < 1e-10);\n",
      "/// assert!((res.0[2] - 1.15740740740741).abs() < 1e-10);\n",
      "/// assert!((res.0[3] - -2.89351851851852).abs() < 1e-10);\n",
      "/// ```\n"
     ]
    }
   ],
   "source": [
    "write_test(1/x, 1.2, \"recip\")"
   ]
  },
  {
   "cell_type": "code",
   "execution_count": 4,
   "metadata": {},
   "outputs": [
    {
     "name": "stdout",
     "output_type": "stream",
     "text": [
      "/// ```\n",
      "/// # use num_hyperdual::hd3::HD3_64;\n",
      "/// # use num_hyperdual::DualNum;\n",
      "/// let res = HD3_64::new(1.2).derive().exp();\n",
      "/// assert!((res.0[0] - 3.32011692273655).abs() < 1e-10);\n",
      "/// assert!((res.0[1] - 3.32011692273655).abs() < 1e-10);\n",
      "/// assert!((res.0[2] - 3.32011692273655).abs() < 1e-10);\n",
      "/// assert!((res.0[3] - 3.32011692273655).abs() < 1e-10);\n",
      "/// ```\n"
     ]
    }
   ],
   "source": [
    "write_test(exp(x), 1.2, \"exp\")"
   ]
  },
  {
   "cell_type": "code",
   "execution_count": 5,
   "metadata": {},
   "outputs": [
    {
     "name": "stdout",
     "output_type": "stream",
     "text": [
      "/// ```\n",
      "/// # use num_hyperdual::hd3::HD3_64;\n",
      "/// # use num_hyperdual::DualNum;\n",
      "/// let res = HD3_64::new(1.2).derive().exp_m1();\n",
      "/// assert!((res.0[0] - 2.32011692273655).abs() < 1e-10);\n",
      "/// assert!((res.0[1] - 3.32011692273655).abs() < 1e-10);\n",
      "/// assert!((res.0[2] - 3.32011692273655).abs() < 1e-10);\n",
      "/// assert!((res.0[3] - 3.32011692273655).abs() < 1e-10);\n",
      "/// ```\n"
     ]
    }
   ],
   "source": [
    "write_test(exp(x)-1, 1.2, \"exp_m1\")"
   ]
  },
  {
   "cell_type": "code",
   "execution_count": 6,
   "metadata": {},
   "outputs": [
    {
     "name": "stdout",
     "output_type": "stream",
     "text": [
      "/// ```\n",
      "/// # use num_hyperdual::hd3::HD3_64;\n",
      "/// # use num_hyperdual::DualNum;\n",
      "/// let res = HD3_64::new(1.2).derive().exp2();\n",
      "/// assert!((res.0[0] - 2.29739670999407).abs() < 1e-10);\n",
      "/// assert!((res.0[1] - 1.59243405216008).abs() < 1e-10);\n",
      "/// assert!((res.0[2] - 1.10379117348241).abs() < 1e-10);\n",
      "/// assert!((res.0[3] - 0.765089739826287).abs() < 1e-10);\n",
      "/// ```\n"
     ]
    }
   ],
   "source": [
    "write_test(2**x, 1.2, \"exp2\")"
   ]
  },
  {
   "cell_type": "code",
   "execution_count": 7,
   "metadata": {},
   "outputs": [
    {
     "name": "stdout",
     "output_type": "stream",
     "text": [
      "/// ```\n",
      "/// # use num_hyperdual::hd3::HD3_64;\n",
      "/// # use num_hyperdual::DualNum;\n",
      "/// let res = HD3_64::new(1.2).derive().ln();\n",
      "/// assert!((res.0[0] - 0.182321556793955).abs() < 1e-10);\n",
      "/// assert!((res.0[1] - 0.833333333333333).abs() < 1e-10);\n",
      "/// assert!((res.0[2] - -0.694444444444445).abs() < 1e-10);\n",
      "/// assert!((res.0[3] - 1.15740740740741).abs() < 1e-10);\n",
      "/// ```\n"
     ]
    }
   ],
   "source": [
    "write_test(ln(x), 1.2, \"ln\")"
   ]
  },
  {
   "cell_type": "code",
   "execution_count": 8,
   "metadata": {},
   "outputs": [
    {
     "name": "stdout",
     "output_type": "stream",
     "text": [
      "/// ```\n",
      "/// # use num_hyperdual::hd3::HD3_64;\n",
      "/// # use num_hyperdual::DualNum;\n",
      "/// let res = HD3_64::new(1.2).derive().log(4.2);\n",
      "/// assert!((res.0[0] - 0.127045866345188).abs() < 1e-10);\n",
      "/// assert!((res.0[1] - 0.580685888982970).abs() < 1e-10);\n",
      "/// assert!((res.0[2] - -0.483904907485808).abs() < 1e-10);\n",
      "/// assert!((res.0[3] - 0.806508179143013).abs() < 1e-10);\n",
      "/// ```\n"
     ]
    }
   ],
   "source": [
    "write_test(log(x, 4.2), 1.2, \"log\", 4.2)"
   ]
  },
  {
   "cell_type": "code",
   "execution_count": 9,
   "metadata": {},
   "outputs": [
    {
     "name": "stdout",
     "output_type": "stream",
     "text": [
      "/// ```\n",
      "/// # use num_hyperdual::hd3::HD3_64;\n",
      "/// # use num_hyperdual::DualNum;\n",
      "/// let res = HD3_64::new(1.2).derive().ln_1p();\n",
      "/// assert!((res.0[0] - 0.788457360364270).abs() < 1e-10);\n",
      "/// assert!((res.0[1] - 0.454545454545455).abs() < 1e-10);\n",
      "/// assert!((res.0[2] - -0.206611570247934).abs() < 1e-10);\n",
      "/// assert!((res.0[3] - 0.187828700225394).abs() < 1e-10);\n",
      "/// ```\n"
     ]
    }
   ],
   "source": [
    "write_test(ln(1+x), 1.2, \"ln_1p\")"
   ]
  },
  {
   "cell_type": "code",
   "execution_count": 10,
   "metadata": {},
   "outputs": [
    {
     "name": "stdout",
     "output_type": "stream",
     "text": [
      "/// ```\n",
      "/// # use num_hyperdual::hd3::HD3_64;\n",
      "/// # use num_hyperdual::DualNum;\n",
      "/// let res = HD3_64::new(1.2).derive().log2();\n",
      "/// assert!((res.0[0] - 0.263034405833794).abs() < 1e-10);\n",
      "/// assert!((res.0[1] - 1.20224586740747).abs() < 1e-10);\n",
      "/// assert!((res.0[2] - -1.00187155617289).abs() < 1e-10);\n",
      "/// assert!((res.0[3] - 1.66978592695482).abs() < 1e-10);\n",
      "/// ```\n"
     ]
    }
   ],
   "source": [
    "write_test(log(x,2), 1.2, \"log2\")"
   ]
  },
  {
   "cell_type": "code",
   "execution_count": 11,
   "metadata": {},
   "outputs": [
    {
     "name": "stdout",
     "output_type": "stream",
     "text": [
      "/// ```\n",
      "/// # use num_hyperdual::hd3::HD3_64;\n",
      "/// # use num_hyperdual::DualNum;\n",
      "/// let res = HD3_64::new(1.2).derive().log10();\n",
      "/// assert!((res.0[0] - 0.0791812460476248).abs() < 1e-10);\n",
      "/// assert!((res.0[1] - 0.361912068252710).abs() < 1e-10);\n",
      "/// assert!((res.0[2] - -0.301593390210592).abs() < 1e-10);\n",
      "/// assert!((res.0[3] - 0.502655650350986).abs() < 1e-10);\n",
      "/// ```\n"
     ]
    }
   ],
   "source": [
    "write_test(log(x,10), 1.2, \"log10\")"
   ]
  },
  {
   "cell_type": "code",
   "execution_count": 12,
   "metadata": {},
   "outputs": [
    {
     "name": "stdout",
     "output_type": "stream",
     "text": [
      "/// ```\n",
      "/// # use num_hyperdual::hd3::HD3_64;\n",
      "/// # use num_hyperdual::DualNum;\n",
      "/// let res = HD3_64::new(1.2).derive().sqrt();\n",
      "/// assert!((res.0[0] - 1.09544511501033).abs() < 1e-10);\n",
      "/// assert!((res.0[1] - 0.456435464587638).abs() < 1e-10);\n",
      "/// assert!((res.0[2] - -0.190181443578183).abs() < 1e-10);\n",
      "/// assert!((res.0[3] - 0.237726804472728).abs() < 1e-10);\n",
      "/// ```\n"
     ]
    }
   ],
   "source": [
    "write_test(sqrt(x), 1.2, \"sqrt\")"
   ]
  },
  {
   "cell_type": "code",
   "execution_count": 13,
   "metadata": {},
   "outputs": [
    {
     "name": "stdout",
     "output_type": "stream",
     "text": [
      "/// ```\n",
      "/// # use num_hyperdual::hd3::HD3_64;\n",
      "/// # use num_hyperdual::DualNum;\n",
      "/// let res = HD3_64::new(1.2).derive().cbrt();\n",
      "/// assert!((res.0[0] - 1.06265856918261).abs() < 1e-10);\n",
      "/// assert!((res.0[1] - 0.295182935884059).abs() < 1e-10);\n",
      "/// assert!((res.0[2] - -0.163990519935588).abs() < 1e-10);\n",
      "/// assert!((res.0[3] - 0.227764611021650).abs() < 1e-10);\n",
      "/// ```\n"
     ]
    }
   ],
   "source": [
    "write_test(cbrt(x), 1.2, \"cbrt\")"
   ]
  },
  {
   "cell_type": "code",
   "execution_count": 14,
   "metadata": {},
   "outputs": [
    {
     "name": "stdout",
     "output_type": "stream",
     "text": [
      "/// ```\n",
      "/// # use num_hyperdual::hd3::HD3_64;\n",
      "/// # use num_hyperdual::DualNum;\n",
      "/// let res = HD3_64::new(1.2).derive().powf(4.2);\n",
      "/// assert!((res.0[0] - 2.15060788316847).abs() < 1e-10);\n",
      "/// assert!((res.0[1] - 7.52712759108966).abs() < 1e-10);\n",
      "/// assert!((res.0[2] - 20.0723402429058).abs() < 1e-10);\n",
      "/// assert!((res.0[3] - 36.7992904453272).abs() < 1e-10);\n",
      "/// ```\n"
     ]
    }
   ],
   "source": [
    "write_test(x**4.2, 1.2, \"powf\", 4.2)"
   ]
  },
  {
   "cell_type": "code",
   "execution_count": 15,
   "metadata": {},
   "outputs": [
    {
     "name": "stdout",
     "output_type": "stream",
     "text": [
      "/// ```\n",
      "/// # use num_hyperdual::hd3::HD3_64;\n",
      "/// # use num_hyperdual::DualNum;\n",
      "/// let res = HD3_64::new(1.2).derive().powi(6);\n",
      "/// assert!((res.0[0] - 2.98598400000000).abs() < 1e-10);\n",
      "/// assert!((res.0[1] - 14.9299200000000).abs() < 1e-10);\n",
      "/// assert!((res.0[2] - 62.2080000000000).abs() < 1e-10);\n",
      "/// assert!((res.0[3] - 207.360000000000).abs() < 1e-10);\n",
      "/// ```\n"
     ]
    }
   ],
   "source": [
    "write_test(x**6, 1.2, \"powi\", 6)"
   ]
  },
  {
   "cell_type": "code",
   "execution_count": 16,
   "metadata": {},
   "outputs": [
    {
     "name": "stdout",
     "output_type": "stream",
     "text": [
      "/// ```\n",
      "/// # use num_hyperdual::hd3::HD3_64;\n",
      "/// # use num_hyperdual::DualNum;\n",
      "/// let res = HD3_64::new(1.2).derive().sin();\n",
      "/// assert!((res.0[0] - 0.932039085967226).abs() < 1e-10);\n",
      "/// assert!((res.0[1] - 0.362357754476674).abs() < 1e-10);\n",
      "/// assert!((res.0[2] - -0.932039085967226).abs() < 1e-10);\n",
      "/// assert!((res.0[3] - -0.362357754476674).abs() < 1e-10);\n",
      "/// ```\n",
      "/// ```\n",
      "/// # use num_hyperdual::hd3::HD3_64;\n",
      "/// # use num_hyperdual::DualNum;\n",
      "/// let res = HD3_64::new(1.2).derive().cos();\n",
      "/// assert!((res.0[0] - 0.362357754476674).abs() < 1e-10);\n",
      "/// assert!((res.0[1] - -0.932039085967226).abs() < 1e-10);\n",
      "/// assert!((res.0[2] - -0.362357754476674).abs() < 1e-10);\n",
      "/// assert!((res.0[3] - 0.932039085967226).abs() < 1e-10);\n",
      "/// ```\n",
      "/// ```\n",
      "/// # use num_hyperdual::hd3::HD3_64;\n",
      "/// # use num_hyperdual::DualNum;\n",
      "/// let res = HD3_64::new(1.2).derive().tan();\n",
      "/// assert!((res.0[0] - 2.57215162212632).abs() < 1e-10);\n",
      "/// assert!((res.0[1] - 7.61596396720705).abs() < 1e-10);\n",
      "/// assert!((res.0[2] - 39.1788281446144).abs() < 1e-10);\n",
      "/// assert!((res.0[3] - 317.553587029949).abs() < 1e-10);\n",
      "/// ```\n"
     ]
    }
   ],
   "source": [
    "write_test(sin(x), 1.2, \"sin\")\n",
    "write_test(cos(x), 1.2, \"cos\")\n",
    "write_test(tan(x), 1.2, \"tan\")"
   ]
  },
  {
   "cell_type": "code",
   "execution_count": 17,
   "metadata": {},
   "outputs": [
    {
     "name": "stdout",
     "output_type": "stream",
     "text": [
      "/// ```\n",
      "/// # use num_hyperdual::hd3::HD3_64;\n",
      "/// # use num_hyperdual::DualNum;\n",
      "/// let res = HD3_64::new(0.2).derive().asin();\n",
      "/// assert!((res.0[0] - 0.201357920790331).abs() < 1e-10);\n",
      "/// assert!((res.0[1] - 1.02062072615966).abs() < 1e-10);\n",
      "/// assert!((res.0[2] - 0.212629317949929).abs() < 1e-10);\n",
      "/// assert!((res.0[3] - 1.19603991346835).abs() < 1e-10);\n",
      "/// ```\n",
      "/// ```\n",
      "/// # use num_hyperdual::hd3::HD3_64;\n",
      "/// # use num_hyperdual::DualNum;\n",
      "/// let res = HD3_64::new(0.2).derive().acos();\n",
      "/// assert!((res.0[0] - 1.36943840600457).abs() < 1e-10);\n",
      "/// assert!((res.0[1] - -1.02062072615966).abs() < 1e-10);\n",
      "/// assert!((res.0[2] - -0.212629317949929).abs() < 1e-10);\n",
      "/// assert!((res.0[3] - -1.19603991346835).abs() < 1e-10);\n",
      "/// ```\n",
      "/// ```\n",
      "/// # use num_hyperdual::hd3::HD3_64;\n",
      "/// # use num_hyperdual::DualNum;\n",
      "/// let res = HD3_64::new(0.2).derive().atan();\n",
      "/// assert!((res.0[0] - 0.197395559849881).abs() < 1e-10);\n",
      "/// assert!((res.0[1] - 0.961538461538461).abs() < 1e-10);\n",
      "/// assert!((res.0[2] - -0.369822485207101).abs() < 1e-10);\n",
      "/// assert!((res.0[3] - -1.56463359126081).abs() < 1e-10);\n",
      "/// ```\n"
     ]
    }
   ],
   "source": [
    "write_test(asin(x), 0.2, \"asin\")\n",
    "write_test(acos(x), 0.2, \"acos\")\n",
    "write_test(atan(x), 0.2, \"atan\")"
   ]
  },
  {
   "cell_type": "code",
   "execution_count": 18,
   "metadata": {},
   "outputs": [
    {
     "name": "stdout",
     "output_type": "stream",
     "text": [
      "/// ```\n",
      "/// # use num_hyperdual::hd3::HD3_64;\n",
      "/// # use num_hyperdual::DualNum;\n",
      "/// let res = HD3_64::new(1.2).derive().sinh();\n",
      "/// assert!((res.0[0] - 1.50946135541217).abs() < 1e-10);\n",
      "/// assert!((res.0[1] - 1.81065556732437).abs() < 1e-10);\n",
      "/// assert!((res.0[2] - 1.50946135541217).abs() < 1e-10);\n",
      "/// assert!((res.0[3] - 1.81065556732437).abs() < 1e-10);\n",
      "/// ```\n",
      "/// ```\n",
      "/// # use num_hyperdual::hd3::HD3_64;\n",
      "/// # use num_hyperdual::DualNum;\n",
      "/// let res = HD3_64::new(1.2).derive().cosh();\n",
      "/// assert!((res.0[0] - 1.81065556732437).abs() < 1e-10);\n",
      "/// assert!((res.0[1] - 1.50946135541217).abs() < 1e-10);\n",
      "/// assert!((res.0[2] - 1.81065556732437).abs() < 1e-10);\n",
      "/// assert!((res.0[3] - 1.50946135541217).abs() < 1e-10);\n",
      "/// ```\n",
      "/// ```\n",
      "/// # use num_hyperdual::hd3::HD3_64;\n",
      "/// # use num_hyperdual::DualNum;\n",
      "/// let res = HD3_64::new(1.2).derive().tanh();\n",
      "/// assert!((res.0[0] - 0.833654607012155).abs() < 1e-10);\n",
      "/// assert!((res.0[1] - 0.305019996207409).abs() < 1e-10);\n",
      "/// assert!((res.0[2] - -0.508562650138273).abs() < 1e-10);\n",
      "/// assert!((res.0[3] - 0.661856796311429).abs() < 1e-10);\n",
      "/// ```\n"
     ]
    }
   ],
   "source": [
    "write_test(sinh(x), 1.2, \"sinh\")\n",
    "write_test(cosh(x), 1.2, \"cosh\")\n",
    "write_test(tanh(x), 1.2, \"tanh\")"
   ]
  },
  {
   "cell_type": "code",
   "execution_count": 19,
   "metadata": {},
   "outputs": [
    {
     "name": "stdout",
     "output_type": "stream",
     "text": [
      "/// ```\n",
      "/// # use num_hyperdual::hd3::HD3_64;\n",
      "/// # use num_hyperdual::DualNum;\n",
      "/// let res = HD3_64::new(1.2).derive().asinh();\n",
      "/// assert!((res.0[0] - 1.01597313417969).abs() < 1e-10);\n",
      "/// assert!((res.0[1] - 0.640184399664480).abs() < 1e-10);\n",
      "/// assert!((res.0[2] - -0.314844786720236).abs() < 1e-10);\n",
      "/// assert!((res.0[3] - 0.202154439560807).abs() < 1e-10);\n",
      "/// ```\n",
      "/// ```\n",
      "/// # use num_hyperdual::hd3::HD3_64;\n",
      "/// # use num_hyperdual::DualNum;\n",
      "/// let res = HD3_64::new(1.2).derive().acosh();\n",
      "/// assert!((res.0[0] - 0.622362503714779).abs() < 1e-10);\n",
      "/// assert!((res.0[1] - 1.50755672288882).abs() < 1e-10);\n",
      "/// assert!((res.0[2] - -4.11151833515132).abs() < 1e-10);\n",
      "/// assert!((res.0[3] - 30.2134301901271).abs() < 1e-10);\n",
      "/// ```\n",
      "/// ```\n",
      "/// # use num_hyperdual::hd3::HD3_64;\n",
      "/// # use num_hyperdual::DualNum;\n",
      "/// let res = HD3_64::new(0.2).derive().atanh();\n",
      "/// assert!((res.0[0] - 0.202732554054082).abs() < 1e-10);\n",
      "/// assert!((res.0[1] - 1.04166666666667).abs() < 1e-10);\n",
      "/// assert!((res.0[2] - 0.434027777777778).abs() < 1e-10);\n",
      "/// assert!((res.0[3] - 2.53182870370370).abs() < 1e-10);\n",
      "/// ```\n"
     ]
    }
   ],
   "source": [
    "write_test(asinh(x), 1.2, \"asinh\")\n",
    "write_test(acosh(x), 1.2, \"acosh\")\n",
    "write_test(atanh(x), 0.2, \"atanh\")"
   ]
  },
  {
   "cell_type": "code",
   "execution_count": 20,
   "metadata": {},
   "outputs": [
    {
     "name": "stdout",
     "output_type": "stream",
     "text": [
      "/// ```\n",
      "/// # use num_hyperdual::hd3::HD3_64;\n",
      "/// # use num_hyperdual::DualNum;\n",
      "/// let res = HD3_64::new(1.2).derive().sph_j0();\n",
      "/// assert!((res.0[0] - 0.776699238306022).abs() < 1e-10);\n",
      "/// assert!((res.0[1] - -0.345284569857790).abs() < 1e-10);\n",
      "/// assert!((res.0[2] - -0.201224955209705).abs() < 1e-10);\n",
      "/// assert!((res.0[3] - 0.201097592627034).abs() < 1e-10);\n",
      "/// ```\n",
      "/// ```\n",
      "/// # use num_hyperdual::hd3::HD3_64;\n",
      "/// # use num_hyperdual::DualNum;\n",
      "/// let res = HD3_64::new(1.2).derive().sph_j1();\n",
      "/// assert!((res.0[0] - 0.345284569857790).abs() < 1e-10);\n",
      "/// assert!((res.0[1] - 0.201224955209705).abs() < 1e-10);\n",
      "/// assert!((res.0[2] - -0.201097592627034).abs() < 1e-10);\n",
      "/// assert!((res.0[3] - -0.106373929549242).abs() < 1e-10);\n",
      "/// ```\n",
      "/// ```\n",
      "/// # use num_hyperdual::hd3::HD3_64;\n",
      "/// # use num_hyperdual::DualNum;\n",
      "/// let res = HD3_64::new(1.2).derive().sph_j2();\n",
      "/// assert!((res.0[0] - 0.0865121863384538).abs() < 1e-10);\n",
      "/// assert!((res.0[1] - 0.129004104011656).abs() < 1e-10);\n",
      "/// assert!((res.0[2] - 0.0589484167190109).abs() < 1e-10);\n",
      "/// assert!((res.0[3] - -0.111341070273404).abs() < 1e-10);\n",
      "/// ```\n"
     ]
    }
   ],
   "source": [
    "write_test(jn(0,x), 1.2, \"sph_j0\")\n",
    "write_test(jn(1,x), 1.2, \"sph_j1\")\n",
    "write_test(jn(2,x), 1.2, \"sph_j2\")"
   ]
  },
  {
   "cell_type": "code",
   "execution_count": null,
   "metadata": {},
   "outputs": [],
   "source": []
  }
 ],
 "metadata": {
  "kernelspec": {
   "display_name": "Python 3",
   "language": "python",
   "name": "python3"
  },
  "language_info": {
   "codemirror_mode": {
    "name": "ipython",
    "version": 3
   },
   "file_extension": ".py",
   "mimetype": "text/x-python",
   "name": "python",
   "nbconvert_exporter": "python",
   "pygments_lexer": "ipython3",
   "version": "3.7.6"
  }
 },
 "nbformat": 4,
 "nbformat_minor": 4
}
